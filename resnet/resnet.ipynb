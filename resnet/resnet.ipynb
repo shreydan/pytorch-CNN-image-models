{
 "cells": [
  {
   "cell_type": "code",
   "execution_count": 228,
   "id": "b7adf225",
   "metadata": {},
   "outputs": [],
   "source": [
    "import torch\n",
    "import torch.nn as nn"
   ]
  },
  {
   "cell_type": "code",
   "execution_count": 229,
   "id": "ffb3ee5c",
   "metadata": {},
   "outputs": [],
   "source": [
    "class ResNetBlock(nn.Module):\n",
    "    def __init__(self, channels, expand_dim=1, downsample=False):\n",
    "        super().__init__()\n",
    "        \n",
    "        self.downsample = downsample\n",
    "        initial_stride = 2 if self.downsample else 1\n",
    "        \n",
    "        self.block1 = nn.Sequential(\n",
    "            nn.Conv2d(channels,channels*expand_dim,kernel_size=3,stride=initial_stride,padding=1,bias=False),\n",
    "            nn.BatchNorm2d(channels*expand_dim),\n",
    "            nn.ReLU()\n",
    "        )\n",
    "        \n",
    "        self.block2 = nn.Sequential(\n",
    "            nn.Conv2d(channels*expand_dim, channels*expand_dim,kernel_size=3,stride=1,padding=1,bias=False),\n",
    "            nn.BatchNorm2d(channels*expand_dim)\n",
    "        )\n",
    "        \n",
    "        if self.downsample:\n",
    "            self.downsample_layer = nn.Sequential(\n",
    "                nn.AvgPool2d(2,stride=2,padding=0,ceil_mode=True),\n",
    "                nn.Conv2d(channels,channels*expand_dim,kernel_size=1,stride=1,dilation=1,bias=False),\n",
    "                nn.BatchNorm2d(channels*expand_dim)\n",
    "            )\n",
    "        else:\n",
    "            self.downsample_layer = nn.Identity()\n",
    "        \n",
    "        self.final_relu = nn.ReLU()\n",
    "        \n",
    "    def forward(self,x):\n",
    "        identity = x\n",
    "        x = self.block1(x)\n",
    "        x = self.block2(x)\n",
    "        \n",
    "        if self.downsample:\n",
    "            identity = self.downsample_layer(identity)\n",
    "            x += identity\n",
    "        \n",
    "        x = self.final_relu(x)\n",
    "\n",
    "        return x"
   ]
  },
  {
   "cell_type": "code",
   "execution_count": 252,
   "id": "6d2f1189",
   "metadata": {},
   "outputs": [],
   "source": [
    "class ResNet(nn.Module):\n",
    "    def __init__(self,in_ch=3,num_classes=10):\n",
    "        super().__init__()\n",
    "        \n",
    "        self.initial_layer = nn.Sequential(\n",
    "            nn.Conv2d(in_ch,24,3,2,1,bias=False),\n",
    "            nn.BatchNorm2d(24),\n",
    "            nn.ReLU(),\n",
    "            nn.Conv2d(24,32,3,1,1,bias=False),\n",
    "            nn.BatchNorm2d(32),\n",
    "            nn.ReLU(),\n",
    "            nn.Conv2d(32,64,3,1,1,bias=False),\n",
    "            nn.BatchNorm2d(64),\n",
    "            nn.ReLU(),\n",
    "            nn.MaxPool2d(kernel_size=3,stride=2,padding=1,dilation=1)\n",
    "        )\n",
    "        \n",
    "        self.layers = nn.Sequential(\n",
    "            ResNetBlock(64),\n",
    "            ResNetBlock(64,expand_dim=4,downsample=True),\n",
    "            ResNetBlock(256,expand_dim=4,downsample=True),\n",
    "            ResNetBlock(1024,downsample=True)\n",
    "        )\n",
    "        \n",
    "        self.head = nn.Sequential(\n",
    "            nn.Flatten(),\n",
    "            nn.AdaptiveAvgPool1d(512),\n",
    "            nn.Linear(512,num_classes)\n",
    "        )\n",
    "        \n",
    "\n",
    "    def forward(self,x):\n",
    "        x = self.initial_layer(x)\n",
    "        x = self.layers(x)\n",
    "        x = self.head(x)\n",
    "        return x"
   ]
  },
  {
   "cell_type": "code",
   "execution_count": 253,
   "id": "2a69ba07",
   "metadata": {},
   "outputs": [],
   "source": [
    "m = ResNet()"
   ]
  },
  {
   "cell_type": "code",
   "execution_count": 232,
   "id": "0e07219b",
   "metadata": {},
   "outputs": [
    {
     "data": {
      "text/plain": [
       "torch.Size([1, 64, 13, 13])"
      ]
     },
     "execution_count": 232,
     "metadata": {},
     "output_type": "execute_result"
    }
   ],
   "source": [
    "m.initial_layer(torch.rand(1,3,50,50)).shape"
   ]
  },
  {
   "cell_type": "code",
   "execution_count": 233,
   "id": "70266a2b",
   "metadata": {},
   "outputs": [
    {
     "data": {
      "text/plain": [
       "torch.Size([1, 64, 13, 13])"
      ]
     },
     "execution_count": 233,
     "metadata": {},
     "output_type": "execute_result"
    }
   ],
   "source": [
    "m.layers[0](torch.rand(1,64,13,13)).shape"
   ]
  },
  {
   "cell_type": "code",
   "execution_count": 244,
   "id": "dfe215c7",
   "metadata": {},
   "outputs": [
    {
     "data": {
      "text/plain": [
       "torch.Size([1, 256, 7, 7])"
      ]
     },
     "execution_count": 244,
     "metadata": {},
     "output_type": "execute_result"
    }
   ],
   "source": [
    "m.layers[1](torch.rand(1,64,13,13)).shape"
   ]
  },
  {
   "cell_type": "code",
   "execution_count": 245,
   "id": "e73f4404",
   "metadata": {},
   "outputs": [
    {
     "data": {
      "text/plain": [
       "torch.Size([1, 1024, 4, 4])"
      ]
     },
     "execution_count": 245,
     "metadata": {},
     "output_type": "execute_result"
    }
   ],
   "source": [
    "m.layers[2](torch.rand(1,256,7,7)).shape"
   ]
  },
  {
   "cell_type": "code",
   "execution_count": 246,
   "id": "aa9fb462",
   "metadata": {},
   "outputs": [
    {
     "data": {
      "text/plain": [
       "torch.Size([1, 1024, 2, 2])"
      ]
     },
     "execution_count": 246,
     "metadata": {},
     "output_type": "execute_result"
    }
   ],
   "source": [
    "m.layers[3](torch.rand(1,1024,4,4)).shape"
   ]
  },
  {
   "cell_type": "code",
   "execution_count": 250,
   "id": "d7f88519",
   "metadata": {},
   "outputs": [
    {
     "data": {
      "text/plain": [
       "32854402"
      ]
     },
     "execution_count": 250,
     "metadata": {},
     "output_type": "execute_result"
    }
   ],
   "source": [
    "sum(p.numel() for i,p in m.named_parameters() if p.requires_grad)"
   ]
  },
  {
   "cell_type": "code",
   "execution_count": 254,
   "id": "b32e0b81",
   "metadata": {},
   "outputs": [
    {
     "data": {
      "text/plain": [
       "torch.Size([1, 10])"
      ]
     },
     "execution_count": 254,
     "metadata": {},
     "output_type": "execute_result"
    }
   ],
   "source": [
    "m(torch.rand(1,3,50,50)).shape"
   ]
  }
 ],
 "metadata": {
  "kernelspec": {
   "display_name": "Python 3 (ipykernel)",
   "language": "python",
   "name": "python3"
  },
  "language_info": {
   "codemirror_mode": {
    "name": "ipython",
    "version": 3
   },
   "file_extension": ".py",
   "mimetype": "text/x-python",
   "name": "python",
   "nbconvert_exporter": "python",
   "pygments_lexer": "ipython3",
   "version": "3.9.16"
  }
 },
 "nbformat": 4,
 "nbformat_minor": 5
}
