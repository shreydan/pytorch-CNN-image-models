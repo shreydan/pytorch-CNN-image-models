{
 "cells": [
  {
   "cell_type": "code",
   "execution_count": 2,
   "id": "61391dfe",
   "metadata": {},
   "outputs": [],
   "source": [
    "import torch\n",
    "import torch.nn as nn"
   ]
  },
  {
   "cell_type": "markdown",
   "id": "7654effe",
   "metadata": {},
   "source": [
    "![alexnet architecture](https://lh5.googleusercontent.com/oEtXKODIrmgyPPKqrmG8aZl5aBNmzvv9aTNQ0H0GsF4jhNOo3DqF_qJAKaVOI1cuF36KslYiPpFtHa6kUETyMWqouPeMavXWvQVDxO2-_6BwT_I04lIAJ_EQreVGEAf1pF04Z0aI)\n",
    "\n",
    "Source: [A Review of Popular Deep Learning Architectures: AlexNet, VGG16, and GoogleNet](https://blog.paperspace.com/popular-deep-learning-architectures-alexnet-vgg-googlenet/)"
   ]
  },
  {
   "cell_type": "code",
   "execution_count": 3,
   "id": "3c7e2e24",
   "metadata": {},
   "outputs": [],
   "source": [
    "class AlexNet(nn.Module):\n",
    "    \n",
    "    def __init__(self, num_classes, in_features=3):\n",
    "        \n",
    "        self.in_features = in_features\n",
    "        self.num_classes = num_classes\n",
    "        \n",
    "        super(AlexNet, self).__init__()\n",
    "        \n",
    "        self.conv_block = nn.Sequential(nn.Conv2d(in_channels=in_features,\n",
    "                                                  out_channels=96,\n",
    "                                                  kernel_size=11,\n",
    "                                                  stride=4\n",
    "                                                 ),\n",
    "                                        nn.ReLU(),\n",
    "                                        nn.LocalResponseNorm(5, k=2.0, alpha=1e-4, beta=0.75),\n",
    "                                        nn.MaxPool2d(kernel_size=3, stride=2),\n",
    "                                        \n",
    "                                        nn.Conv2d(96,256,5,1,2),\n",
    "                                        nn.ReLU(),\n",
    "                                        nn.LocalResponseNorm(5, k=2.0, alpha=1e-4, beta=0.75),\n",
    "                                        nn.MaxPool2d(3,2),\n",
    "                                        \n",
    "                                        nn.Conv2d(256,314,3,1,1),\n",
    "                                        nn.ReLU(),\n",
    "                                        \n",
    "                                        nn.Conv2d(314,314,3,1,1),\n",
    "                                        nn.ReLU(),\n",
    "                                        \n",
    "                                        nn.Conv2d(314,256,3,1,1),\n",
    "                                        nn.ReLU(),\n",
    "                                        \n",
    "                                        nn.MaxPool2d(3,2)\n",
    "                                       )\n",
    "        \n",
    "        self.fc_block = nn.Sequential(nn.Linear(256*6*6, 4096),\n",
    "                                      nn.ReLU(),\n",
    "                                      nn.Dropout(0.5),\n",
    "                                      \n",
    "                                      nn.Linear(4096,4096),\n",
    "                                      nn.ReLU(),\n",
    "                                      nn.Dropout(0.5),\n",
    "                                      \n",
    "                                      nn.Linear(4096,1000)\n",
    "                                      \n",
    "                                    # nn.LogSoftmax(dim=1) if training using NLLLoss,\n",
    "                                    # in cross entropy loss softmax is applied automatically)\n",
    "                                     )\n",
    "                                    \n",
    "        \n",
    "    def forward(self, x):\n",
    "        x = self.conv_block(x)\n",
    "        x = torch.flatten(x,1)\n",
    "        x = self.fc_block(x)\n",
    "        return x\n",
    "        \n"
   ]
  },
  {
   "cell_type": "code",
   "execution_count": 4,
   "id": "24ada987",
   "metadata": {},
   "outputs": [
    {
     "data": {
      "text/plain": [
       "torch.Size([1, 1000])"
      ]
     },
     "execution_count": 4,
     "metadata": {},
     "output_type": "execute_result"
    }
   ],
   "source": [
    "model = AlexNet(10)\n",
    "x = torch.rand(1,3,227,227) # batchsize x channels x height x width\n",
    "model(x).shape"
   ]
  }
 ],
 "metadata": {
  "kernelspec": {
   "display_name": "Python 3 (ipykernel)",
   "language": "python",
   "name": "python3"
  },
  "language_info": {
   "codemirror_mode": {
    "name": "ipython",
    "version": 3
   },
   "file_extension": ".py",
   "mimetype": "text/x-python",
   "name": "python",
   "nbconvert_exporter": "python",
   "pygments_lexer": "ipython3",
   "version": "3.9.12"
  }
 },
 "nbformat": 4,
 "nbformat_minor": 5
}
