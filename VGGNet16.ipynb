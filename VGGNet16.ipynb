{
 "cells": [
  {
   "cell_type": "code",
   "execution_count": 1,
   "id": "96bfc11c",
   "metadata": {},
   "outputs": [],
   "source": [
    "import torch\n",
    "import torch.nn as nn"
   ]
  },
  {
   "cell_type": "code",
   "execution_count": 38,
   "id": "ed7350ed",
   "metadata": {},
   "outputs": [],
   "source": [
    "class VGGNet16(nn.Module):\n",
    "    \n",
    "    def __init__(self, in_features = 3, num_classes = 1000):\n",
    "        \n",
    "        self.in_features = in_features\n",
    "        self.num_classes = 1000\n",
    "        \n",
    "        super(VGGNet16, self).__init__()\n",
    "        \n",
    "        self.config = [(self.in_features,64,3),\n",
    "                       (64,64,3),\n",
    "                       'M',\n",
    "                       \n",
    "                       (64,128,3),\n",
    "                       (128,128,3),\n",
    "                       'M',\n",
    "                       \n",
    "                       (128,256,3),\n",
    "                       (256,256,3),\n",
    "                       (256,256,3),\n",
    "                       'M',\n",
    "                       \n",
    "                       (256,512,3),\n",
    "                       (512,512,3),\n",
    "                       (512,512,3),\n",
    "                       'M',\n",
    "                       \n",
    "                       (512,512,3),\n",
    "                       (512,512,3),\n",
    "                       (512,512,3),\n",
    "                       'M'\n",
    "                      ]\n",
    "        \n",
    "        self.maxpool = nn.MaxPool2d(2,2)\n",
    "        \n",
    "        layers = []\n",
    "        for layer in self.config:\n",
    "            if layer != 'M':\n",
    "                layers.append(nn.Conv2d(*layer,1,1))\n",
    "                layers.append(nn.ReLU())\n",
    "            else:\n",
    "                layers.append(nn.MaxPool2d(2,2))\n",
    "                                \n",
    "\n",
    "        self.conv = nn.Sequential(*layers)\n",
    "        self.fc = nn.Sequential(nn.Linear(512*7*7, 4096),\n",
    "                                nn.ReLU(),\n",
    "                                nn.Linear(4096, 4096),\n",
    "                                nn.ReLU(),\n",
    "                                nn.Linear(4096, 1000),\n",
    "                                nn.LogSoftmax(dim=1)\n",
    "                               )\n",
    "        \n",
    "        \n",
    "        \n",
    "    def forward(self,x):\n",
    "        x = self.conv(x)\n",
    "        x = torch.flatten(x,1)\n",
    "        x = self.fc(x)\n",
    "        return x\n",
    "    \n",
    "        "
   ]
  },
  {
   "cell_type": "code",
   "execution_count": 41,
   "id": "eaef840e",
   "metadata": {},
   "outputs": [
    {
     "data": {
      "text/plain": [
       "torch.Size([32, 1000])"
      ]
     },
     "execution_count": 41,
     "metadata": {},
     "output_type": "execute_result"
    }
   ],
   "source": [
    "model = VGGNet16()\n",
    "x = torch.rand(32,3,224,224) # batch * channels * height * width\n",
    "model(x).shape"
   ]
  }
 ],
 "metadata": {
  "kernelspec": {
   "display_name": "Python 3 (ipykernel)",
   "language": "python",
   "name": "python3"
  },
  "language_info": {
   "codemirror_mode": {
    "name": "ipython",
    "version": 3
   },
   "file_extension": ".py",
   "mimetype": "text/x-python",
   "name": "python",
   "nbconvert_exporter": "python",
   "pygments_lexer": "ipython3",
   "version": "3.9.12"
  }
 },
 "nbformat": 4,
 "nbformat_minor": 5
}
